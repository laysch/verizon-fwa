{
  "cells": [
    {
      "cell_type": "markdown",
      "metadata": {
        "id": "view-in-github",
        "colab_type": "text"
      },
      "source": [
        "<a href=\"https://colab.research.google.com/github/laysch/verizon-fwa/blob/main/Verizon2_Krystal.ipynb\" target=\"_parent\"><img src=\"https://colab.research.google.com/assets/colab-badge.svg\" alt=\"Open In Colab\"/></a>"
      ]
    },
    {
      "cell_type": "markdown",
      "metadata": {
        "id": "R3mCwPS9NIte"
      },
      "source": [
        "Import Libraries"
      ]
    },
    {
      "cell_type": "code",
      "execution_count": null,
      "metadata": {
        "id": "KM6fdvLNNL37"
      },
      "outputs": [],
      "source": [
        "\n",
        "import pandas as pd\n",
        "import numpy as np\n",
        "import matplotlib.pyplot as plt\n",
        "import seaborn as sns\n",
        "import missingno as msno # To visualize missing value\n",
        "import plotly.graph_objects as go # To Generate Graphs\n",
        "import plotly.express as px # To Generate box plot for statistical representation\n",
        "%matplotlib inline"
      ]
    },
    {
      "cell_type": "markdown",
      "source": [
        "Mount Google Drive"
      ],
      "metadata": {
        "id": "1qC_XxYLmyqy"
      }
    },
    {
      "cell_type": "code",
      "execution_count": null,
      "metadata": {
        "colab": {
          "base_uri": "https://localhost:8080/"
        },
        "id": "HZJ9IoUKNT3U",
        "outputId": "b5dfd8e4-10cc-4443-d576-38d4ca9288fe"
      },
      "outputs": [
        {
          "output_type": "stream",
          "name": "stdout",
          "text": [
            "Drive already mounted at /content/drive; to attempt to forcibly remount, call drive.mount(\"/content/drive\", force_remount=True).\n",
            "/content/drive/MyDrive/Break Through Tech/AI Studio\n"
          ]
        }
      ],
      "source": [
        "from google.colab import drive\n",
        "drive.mount('/content/drive')\n",
        "%cd /content/drive/MyDrive/Break Through Tech/AI Studio/"
      ]
    },
    {
      "cell_type": "markdown",
      "metadata": {
        "id": "Qt6Cl-ngNPc0"
      },
      "source": [
        "Get data and check features"
      ]
    },
    {
      "cell_type": "code",
      "execution_count": null,
      "metadata": {
        "id": "l9axUTe3aSkV",
        "colab": {
          "base_uri": "https://localhost:8080/"
        },
        "outputId": "857fe7b7-120a-4423-c284-6ceeac495ef4"
      },
      "outputs": [
        {
          "output_type": "stream",
          "name": "stderr",
          "text": [
            "<ipython-input-93-c9b5fad454bf>:1: DtypeWarning: Columns (1) have mixed types. Specify dtype option on import or set low_memory=False.\n",
            "  df=pd.read_csv(\"Area_Table_June_2021_Status_V1.csv\")\n"
          ]
        }
      ],
      "source": [
        "df=pd.read_csv(\"Area_Table_June_2021_Status_V1.csv\")\n"
      ]
    },
    {
      "cell_type": "code",
      "source": [
        "print(\"shape of original df:\", df.shape)\n",
        "df = df[df['type'] == \"state\"]\n",
        "print(\"shape of new df:\", df.shape)\n",
        "df.head(5)"
      ],
      "metadata": {
        "colab": {
          "base_uri": "https://localhost:8080/",
          "height": 241
        },
        "id": "LfBrwfEEnKDC",
        "outputId": "5e29d683-c1f3-4521-8b24-4efe7e838e7e"
      },
      "execution_count": null,
      "outputs": [
        {
          "output_type": "stream",
          "name": "stdout",
          "text": [
            "shape of original df: (23811795, 10)\n",
            "shape of new df: (76293, 10)\n"
          ]
        },
        {
          "output_type": "execute_result",
          "data": {
            "text/plain": [
              "          type  id    tech urban_rural tribal_non  speed  has_0  has_1  has_2  \\\n",
              "3390534  state  01  acfosw           R          N    0.2      0    120     54   \n",
              "3390535  state  01  acfosw           R          T    0.2      0      0      0   \n",
              "3390536  state  01  acfosw           U          N    0.2      0     18     20   \n",
              "3390537  state  01  acfosw           U          T    0.2      0      0      0   \n",
              "3390538  state  02  acfosw           R          N    0.2      0   7647  13458   \n",
              "\n",
              "         has_3more  \n",
              "3390534    2037136  \n",
              "3390535        282  \n",
              "3390536    2883806  \n",
              "3390537          1  \n",
              "3390538      66268  "
            ],
            "text/html": [
              "\n",
              "  <div id=\"df-68668cee-fa20-47f9-8e75-c23a1f4d89b0\" class=\"colab-df-container\">\n",
              "    <div>\n",
              "<style scoped>\n",
              "    .dataframe tbody tr th:only-of-type {\n",
              "        vertical-align: middle;\n",
              "    }\n",
              "\n",
              "    .dataframe tbody tr th {\n",
              "        vertical-align: top;\n",
              "    }\n",
              "\n",
              "    .dataframe thead th {\n",
              "        text-align: right;\n",
              "    }\n",
              "</style>\n",
              "<table border=\"1\" class=\"dataframe\">\n",
              "  <thead>\n",
              "    <tr style=\"text-align: right;\">\n",
              "      <th></th>\n",
              "      <th>type</th>\n",
              "      <th>id</th>\n",
              "      <th>tech</th>\n",
              "      <th>urban_rural</th>\n",
              "      <th>tribal_non</th>\n",
              "      <th>speed</th>\n",
              "      <th>has_0</th>\n",
              "      <th>has_1</th>\n",
              "      <th>has_2</th>\n",
              "      <th>has_3more</th>\n",
              "    </tr>\n",
              "  </thead>\n",
              "  <tbody>\n",
              "    <tr>\n",
              "      <th>3390534</th>\n",
              "      <td>state</td>\n",
              "      <td>01</td>\n",
              "      <td>acfosw</td>\n",
              "      <td>R</td>\n",
              "      <td>N</td>\n",
              "      <td>0.2</td>\n",
              "      <td>0</td>\n",
              "      <td>120</td>\n",
              "      <td>54</td>\n",
              "      <td>2037136</td>\n",
              "    </tr>\n",
              "    <tr>\n",
              "      <th>3390535</th>\n",
              "      <td>state</td>\n",
              "      <td>01</td>\n",
              "      <td>acfosw</td>\n",
              "      <td>R</td>\n",
              "      <td>T</td>\n",
              "      <td>0.2</td>\n",
              "      <td>0</td>\n",
              "      <td>0</td>\n",
              "      <td>0</td>\n",
              "      <td>282</td>\n",
              "    </tr>\n",
              "    <tr>\n",
              "      <th>3390536</th>\n",
              "      <td>state</td>\n",
              "      <td>01</td>\n",
              "      <td>acfosw</td>\n",
              "      <td>U</td>\n",
              "      <td>N</td>\n",
              "      <td>0.2</td>\n",
              "      <td>0</td>\n",
              "      <td>18</td>\n",
              "      <td>20</td>\n",
              "      <td>2883806</td>\n",
              "    </tr>\n",
              "    <tr>\n",
              "      <th>3390537</th>\n",
              "      <td>state</td>\n",
              "      <td>01</td>\n",
              "      <td>acfosw</td>\n",
              "      <td>U</td>\n",
              "      <td>T</td>\n",
              "      <td>0.2</td>\n",
              "      <td>0</td>\n",
              "      <td>0</td>\n",
              "      <td>0</td>\n",
              "      <td>1</td>\n",
              "    </tr>\n",
              "    <tr>\n",
              "      <th>3390538</th>\n",
              "      <td>state</td>\n",
              "      <td>02</td>\n",
              "      <td>acfosw</td>\n",
              "      <td>R</td>\n",
              "      <td>N</td>\n",
              "      <td>0.2</td>\n",
              "      <td>0</td>\n",
              "      <td>7647</td>\n",
              "      <td>13458</td>\n",
              "      <td>66268</td>\n",
              "    </tr>\n",
              "  </tbody>\n",
              "</table>\n",
              "</div>\n",
              "    <div class=\"colab-df-buttons\">\n",
              "\n",
              "  <div class=\"colab-df-container\">\n",
              "    <button class=\"colab-df-convert\" onclick=\"convertToInteractive('df-68668cee-fa20-47f9-8e75-c23a1f4d89b0')\"\n",
              "            title=\"Convert this dataframe to an interactive table.\"\n",
              "            style=\"display:none;\">\n",
              "\n",
              "  <svg xmlns=\"http://www.w3.org/2000/svg\" height=\"24px\" viewBox=\"0 -960 960 960\">\n",
              "    <path d=\"M120-120v-720h720v720H120Zm60-500h600v-160H180v160Zm220 220h160v-160H400v160Zm0 220h160v-160H400v160ZM180-400h160v-160H180v160Zm440 0h160v-160H620v160ZM180-180h160v-160H180v160Zm440 0h160v-160H620v160Z\"/>\n",
              "  </svg>\n",
              "    </button>\n",
              "\n",
              "  <style>\n",
              "    .colab-df-container {\n",
              "      display:flex;\n",
              "      gap: 12px;\n",
              "    }\n",
              "\n",
              "    .colab-df-convert {\n",
              "      background-color: #E8F0FE;\n",
              "      border: none;\n",
              "      border-radius: 50%;\n",
              "      cursor: pointer;\n",
              "      display: none;\n",
              "      fill: #1967D2;\n",
              "      height: 32px;\n",
              "      padding: 0 0 0 0;\n",
              "      width: 32px;\n",
              "    }\n",
              "\n",
              "    .colab-df-convert:hover {\n",
              "      background-color: #E2EBFA;\n",
              "      box-shadow: 0px 1px 2px rgba(60, 64, 67, 0.3), 0px 1px 3px 1px rgba(60, 64, 67, 0.15);\n",
              "      fill: #174EA6;\n",
              "    }\n",
              "\n",
              "    .colab-df-buttons div {\n",
              "      margin-bottom: 4px;\n",
              "    }\n",
              "\n",
              "    [theme=dark] .colab-df-convert {\n",
              "      background-color: #3B4455;\n",
              "      fill: #D2E3FC;\n",
              "    }\n",
              "\n",
              "    [theme=dark] .colab-df-convert:hover {\n",
              "      background-color: #434B5C;\n",
              "      box-shadow: 0px 1px 3px 1px rgba(0, 0, 0, 0.15);\n",
              "      filter: drop-shadow(0px 1px 2px rgba(0, 0, 0, 0.3));\n",
              "      fill: #FFFFFF;\n",
              "    }\n",
              "  </style>\n",
              "\n",
              "    <script>\n",
              "      const buttonEl =\n",
              "        document.querySelector('#df-68668cee-fa20-47f9-8e75-c23a1f4d89b0 button.colab-df-convert');\n",
              "      buttonEl.style.display =\n",
              "        google.colab.kernel.accessAllowed ? 'block' : 'none';\n",
              "\n",
              "      async function convertToInteractive(key) {\n",
              "        const element = document.querySelector('#df-68668cee-fa20-47f9-8e75-c23a1f4d89b0');\n",
              "        const dataTable =\n",
              "          await google.colab.kernel.invokeFunction('convertToInteractive',\n",
              "                                                    [key], {});\n",
              "        if (!dataTable) return;\n",
              "\n",
              "        const docLinkHtml = 'Like what you see? Visit the ' +\n",
              "          '<a target=\"_blank\" href=https://colab.research.google.com/notebooks/data_table.ipynb>data table notebook</a>'\n",
              "          + ' to learn more about interactive tables.';\n",
              "        element.innerHTML = '';\n",
              "        dataTable['output_type'] = 'display_data';\n",
              "        await google.colab.output.renderOutput(dataTable, element);\n",
              "        const docLink = document.createElement('div');\n",
              "        docLink.innerHTML = docLinkHtml;\n",
              "        element.appendChild(docLink);\n",
              "      }\n",
              "    </script>\n",
              "  </div>\n",
              "\n",
              "\n",
              "<div id=\"df-94596f1f-597a-4892-8832-91019f7bf31a\">\n",
              "  <button class=\"colab-df-quickchart\" onclick=\"quickchart('df-94596f1f-597a-4892-8832-91019f7bf31a')\"\n",
              "            title=\"Suggest charts\"\n",
              "            style=\"display:none;\">\n",
              "\n",
              "<svg xmlns=\"http://www.w3.org/2000/svg\" height=\"24px\"viewBox=\"0 0 24 24\"\n",
              "     width=\"24px\">\n",
              "    <g>\n",
              "        <path d=\"M19 3H5c-1.1 0-2 .9-2 2v14c0 1.1.9 2 2 2h14c1.1 0 2-.9 2-2V5c0-1.1-.9-2-2-2zM9 17H7v-7h2v7zm4 0h-2V7h2v10zm4 0h-2v-4h2v4z\"/>\n",
              "    </g>\n",
              "</svg>\n",
              "  </button>\n",
              "\n",
              "<style>\n",
              "  .colab-df-quickchart {\n",
              "      --bg-color: #E8F0FE;\n",
              "      --fill-color: #1967D2;\n",
              "      --hover-bg-color: #E2EBFA;\n",
              "      --hover-fill-color: #174EA6;\n",
              "      --disabled-fill-color: #AAA;\n",
              "      --disabled-bg-color: #DDD;\n",
              "  }\n",
              "\n",
              "  [theme=dark] .colab-df-quickchart {\n",
              "      --bg-color: #3B4455;\n",
              "      --fill-color: #D2E3FC;\n",
              "      --hover-bg-color: #434B5C;\n",
              "      --hover-fill-color: #FFFFFF;\n",
              "      --disabled-bg-color: #3B4455;\n",
              "      --disabled-fill-color: #666;\n",
              "  }\n",
              "\n",
              "  .colab-df-quickchart {\n",
              "    background-color: var(--bg-color);\n",
              "    border: none;\n",
              "    border-radius: 50%;\n",
              "    cursor: pointer;\n",
              "    display: none;\n",
              "    fill: var(--fill-color);\n",
              "    height: 32px;\n",
              "    padding: 0;\n",
              "    width: 32px;\n",
              "  }\n",
              "\n",
              "  .colab-df-quickchart:hover {\n",
              "    background-color: var(--hover-bg-color);\n",
              "    box-shadow: 0 1px 2px rgba(60, 64, 67, 0.3), 0 1px 3px 1px rgba(60, 64, 67, 0.15);\n",
              "    fill: var(--button-hover-fill-color);\n",
              "  }\n",
              "\n",
              "  .colab-df-quickchart-complete:disabled,\n",
              "  .colab-df-quickchart-complete:disabled:hover {\n",
              "    background-color: var(--disabled-bg-color);\n",
              "    fill: var(--disabled-fill-color);\n",
              "    box-shadow: none;\n",
              "  }\n",
              "\n",
              "  .colab-df-spinner {\n",
              "    border: 2px solid var(--fill-color);\n",
              "    border-color: transparent;\n",
              "    border-bottom-color: var(--fill-color);\n",
              "    animation:\n",
              "      spin 1s steps(1) infinite;\n",
              "  }\n",
              "\n",
              "  @keyframes spin {\n",
              "    0% {\n",
              "      border-color: transparent;\n",
              "      border-bottom-color: var(--fill-color);\n",
              "      border-left-color: var(--fill-color);\n",
              "    }\n",
              "    20% {\n",
              "      border-color: transparent;\n",
              "      border-left-color: var(--fill-color);\n",
              "      border-top-color: var(--fill-color);\n",
              "    }\n",
              "    30% {\n",
              "      border-color: transparent;\n",
              "      border-left-color: var(--fill-color);\n",
              "      border-top-color: var(--fill-color);\n",
              "      border-right-color: var(--fill-color);\n",
              "    }\n",
              "    40% {\n",
              "      border-color: transparent;\n",
              "      border-right-color: var(--fill-color);\n",
              "      border-top-color: var(--fill-color);\n",
              "    }\n",
              "    60% {\n",
              "      border-color: transparent;\n",
              "      border-right-color: var(--fill-color);\n",
              "    }\n",
              "    80% {\n",
              "      border-color: transparent;\n",
              "      border-right-color: var(--fill-color);\n",
              "      border-bottom-color: var(--fill-color);\n",
              "    }\n",
              "    90% {\n",
              "      border-color: transparent;\n",
              "      border-bottom-color: var(--fill-color);\n",
              "    }\n",
              "  }\n",
              "</style>\n",
              "\n",
              "  <script>\n",
              "    async function quickchart(key) {\n",
              "      const quickchartButtonEl =\n",
              "        document.querySelector('#' + key + ' button');\n",
              "      quickchartButtonEl.disabled = true;  // To prevent multiple clicks.\n",
              "      quickchartButtonEl.classList.add('colab-df-spinner');\n",
              "      try {\n",
              "        const charts = await google.colab.kernel.invokeFunction(\n",
              "            'suggestCharts', [key], {});\n",
              "      } catch (error) {\n",
              "        console.error('Error during call to suggestCharts:', error);\n",
              "      }\n",
              "      quickchartButtonEl.classList.remove('colab-df-spinner');\n",
              "      quickchartButtonEl.classList.add('colab-df-quickchart-complete');\n",
              "    }\n",
              "    (() => {\n",
              "      let quickchartButtonEl =\n",
              "        document.querySelector('#df-94596f1f-597a-4892-8832-91019f7bf31a button');\n",
              "      quickchartButtonEl.style.display =\n",
              "        google.colab.kernel.accessAllowed ? 'block' : 'none';\n",
              "    })();\n",
              "  </script>\n",
              "</div>\n",
              "    </div>\n",
              "  </div>\n"
            ]
          },
          "metadata": {},
          "execution_count": 94
        }
      ]
    },
    {
      "cell_type": "markdown",
      "source": [
        "Check for null values"
      ],
      "metadata": {
        "id": "8Me1CFwu-7I4"
      }
    },
    {
      "cell_type": "code",
      "source": [
        "df.isnull().sum()\n"
      ],
      "metadata": {
        "colab": {
          "base_uri": "https://localhost:8080/"
        },
        "id": "ZpWfXM8lnpEQ",
        "outputId": "858ed961-0746-4491-82da-2979717a0a82"
      },
      "execution_count": null,
      "outputs": [
        {
          "output_type": "execute_result",
          "data": {
            "text/plain": [
              "type           0\n",
              "id             0\n",
              "tech           0\n",
              "urban_rural    0\n",
              "tribal_non     0\n",
              "speed          0\n",
              "has_0          0\n",
              "has_1          0\n",
              "has_2          0\n",
              "has_3more      0\n",
              "dtype: int64"
            ]
          },
          "metadata": {},
          "execution_count": 95
        }
      ]
    },
    {
      "cell_type": "markdown",
      "source": [
        "##Exploratory Data Analysys (EDA)\n",
        "\n",
        "\n",
        "Analysis of State Data"
      ],
      "metadata": {
        "id": "myUtlVVqAGOy"
      }
    },
    {
      "cell_type": "code",
      "source": [
        "# #keep id as int for model but have write some fun to convert these ints to corresponding state strings for clear visualization purposes\n",
        "\n",
        "# geo_df=pd.read_csv(\"Geography_Lookup_Table.csv\")\n",
        "# lookup_df = geo_df[geo_df['type'] == \"state\"]\n",
        "# lookup_df.head(10)\n"
      ],
      "metadata": {
        "id": "HXgcYQ2rCymG"
      },
      "execution_count": null,
      "outputs": []
    },
    {
      "cell_type": "markdown",
      "source": [
        "Function for mapping geoid to state string\n"
      ],
      "metadata": {
        "id": "BzB-PBS8J4XJ"
      }
    },
    {
      "cell_type": "code",
      "source": [
        "# #input:array of geoids\n",
        "# #output: array of state names\n",
        "# #by looking up in table\n",
        "\n",
        "# geoid_dict = dict(zip(lookup_df.geoid, lookup_df.name))\n",
        "# states_array = pd.Series([geoid_dict[geoid] for geoid in df['id']])\n",
        "\n",
        "\n",
        "# fig, ax = plt.subplots(figsize=(30, 8))\n",
        "# states_array.hist(ax=ax)\n",
        "# plt.xticks(rotation=90)\n",
        "\n",
        "\n",
        "# plt.title('Distribution of States')\n",
        "# plt.xlabel('State Names')\n",
        "# plt.ylabel('Frequency')\n",
        "\n",
        "# plt.show()\n"
      ],
      "metadata": {
        "id": "4NFZe-VTERLf"
      },
      "execution_count": null,
      "outputs": []
    },
    {
      "cell_type": "code",
      "source": [
        "df.drop(columns = \"type\", axis=1, inplace=True)\n",
        "df = df.astype({'id':'int'}) #convert ids to ints\n",
        "\n",
        "#dropping ID column for model\n",
        "df.drop(['id'], axis=1, inplace=True)\n"
      ],
      "metadata": {
        "id": "od8R42Uxpfi5",
        "colab": {
          "base_uri": "https://localhost:8080/"
        },
        "outputId": "6ce2b87f-30c7-4eff-de01-83b0c801e486"
      },
      "execution_count": null,
      "outputs": [
        {
          "output_type": "stream",
          "name": "stderr",
          "text": [
            "<ipython-input-98-2195dccd806f>:1: SettingWithCopyWarning: \n",
            "A value is trying to be set on a copy of a slice from a DataFrame\n",
            "\n",
            "See the caveats in the documentation: https://pandas.pydata.org/pandas-docs/stable/user_guide/indexing.html#returning-a-view-versus-a-copy\n",
            "  df.drop(columns = \"type\", axis=1, inplace=True)\n"
          ]
        }
      ]
    },
    {
      "cell_type": "markdown",
      "source": [
        "#Tech Column\n",
        "Replacing all values that has Wireless Internet with 1 and without W with 0"
      ],
      "metadata": {
        "id": "RV4dHPkpbn_C"
      }
    },
    {
      "cell_type": "code",
      "source": [
        "df.replace({\"tech\": {\"w\": 1}},regex=True, inplace=True)\n",
        "df.replace({\"tech\": {\"a\": 0, \"c\":0, \"f\": 0, \"o\": 0, \"s\": 0  }},regex=True, inplace=True)"
      ],
      "metadata": {
        "id": "rQ1jNe__V6EY"
      },
      "execution_count": null,
      "outputs": []
    },
    {
      "cell_type": "markdown",
      "source": [
        "##Urban/Rural\n",
        "Urban as 1, Rural as 0"
      ],
      "metadata": {
        "id": "SWovjaDli0kv"
      }
    },
    {
      "cell_type": "code",
      "source": [
        "df.replace({\"urban_rural\": {\"U\": 1, \"R\":0}, \"tribal_non\": {\"T\": 1, \"N\":0}},regex=True, inplace=True)\n"
      ],
      "metadata": {
        "id": "G2Z5JTkui6sX"
      },
      "execution_count": null,
      "outputs": []
    },
    {
      "cell_type": "markdown",
      "source": [
        "#Speed\n",
        "Speeds with less than 1 Mbps can not have FWA"
      ],
      "metadata": {
        "id": "deOJVnyJjNY5"
      }
    },
    {
      "cell_type": "code",
      "source": [
        "df = df[df['speed'] >= 1.0]"
      ],
      "metadata": {
        "id": "uihJATfzi7hE"
      },
      "execution_count": null,
      "outputs": []
    },
    {
      "cell_type": "markdown",
      "source": [
        "#Providors\n",
        "Combine has_0, has_1, has_2, has_3more, to 1 has_providors"
      ],
      "metadata": {
        "id": "tQVxSlaEj_Il"
      }
    },
    {
      "cell_type": "code",
      "source": [
        "df['has_providers'] = df[['has_0', 'has_1', 'has_2', 'has_3more']].apply(lambda row: 1 if any(row) else 0, axis=1)\n",
        "df.drop(['has_0', 'has_1', 'has_2', 'has_3more'], axis=1, inplace=True)"
      ],
      "metadata": {
        "id": "3NxWAIJvjX7H"
      },
      "execution_count": null,
      "outputs": []
    },
    {
      "cell_type": "code",
      "source": [
        "df.head(20)"
      ],
      "metadata": {
        "colab": {
          "base_uri": "https://localhost:8080/",
          "height": 676
        },
        "id": "v7xJtxfmkdnf",
        "outputId": "a7b7e1ef-0a14-49cd-b626-a8a124f98cda"
      },
      "execution_count": null,
      "outputs": [
        {
          "output_type": "execute_result",
          "data": {
            "text/plain": [
              "         tech  urban_rural  tribal_non  speed  has_providers\n",
              "6792219     1            0           0    4.0              1\n",
              "6792220     1            0           1    4.0              1\n",
              "6792221     1            1           0    4.0              1\n",
              "6792222     1            1           1    4.0              1\n",
              "6792223     1            0           0    4.0              1\n",
              "6792224     1            0           1    4.0              1\n",
              "6792225     1            1           0    4.0              1\n",
              "6792226     1            1           1    4.0              1\n",
              "6792227     1            0           0    4.0              1\n",
              "6792228     1            0           1    4.0              1\n",
              "6792229     1            1           0    4.0              1\n",
              "6792230     1            1           1    4.0              1\n",
              "6792231     1            0           0    4.0              1\n",
              "6792232     1            1           0    4.0              1\n",
              "6792233     0            1           1    4.0              1\n",
              "6792234     1            0           0    4.0              1\n",
              "6792235     1            0           1    4.0              1\n",
              "6792236     1            1           0    4.0              1\n",
              "6792237     1            1           1    4.0              1\n",
              "6792238     1            0           0    4.0              1"
            ],
            "text/html": [
              "\n",
              "  <div id=\"df-2d2058cb-0768-4e4c-9ffd-8c5aa5587a9b\" class=\"colab-df-container\">\n",
              "    <div>\n",
              "<style scoped>\n",
              "    .dataframe tbody tr th:only-of-type {\n",
              "        vertical-align: middle;\n",
              "    }\n",
              "\n",
              "    .dataframe tbody tr th {\n",
              "        vertical-align: top;\n",
              "    }\n",
              "\n",
              "    .dataframe thead th {\n",
              "        text-align: right;\n",
              "    }\n",
              "</style>\n",
              "<table border=\"1\" class=\"dataframe\">\n",
              "  <thead>\n",
              "    <tr style=\"text-align: right;\">\n",
              "      <th></th>\n",
              "      <th>tech</th>\n",
              "      <th>urban_rural</th>\n",
              "      <th>tribal_non</th>\n",
              "      <th>speed</th>\n",
              "      <th>has_providers</th>\n",
              "    </tr>\n",
              "  </thead>\n",
              "  <tbody>\n",
              "    <tr>\n",
              "      <th>6792219</th>\n",
              "      <td>1</td>\n",
              "      <td>0</td>\n",
              "      <td>0</td>\n",
              "      <td>4.0</td>\n",
              "      <td>1</td>\n",
              "    </tr>\n",
              "    <tr>\n",
              "      <th>6792220</th>\n",
              "      <td>1</td>\n",
              "      <td>0</td>\n",
              "      <td>1</td>\n",
              "      <td>4.0</td>\n",
              "      <td>1</td>\n",
              "    </tr>\n",
              "    <tr>\n",
              "      <th>6792221</th>\n",
              "      <td>1</td>\n",
              "      <td>1</td>\n",
              "      <td>0</td>\n",
              "      <td>4.0</td>\n",
              "      <td>1</td>\n",
              "    </tr>\n",
              "    <tr>\n",
              "      <th>6792222</th>\n",
              "      <td>1</td>\n",
              "      <td>1</td>\n",
              "      <td>1</td>\n",
              "      <td>4.0</td>\n",
              "      <td>1</td>\n",
              "    </tr>\n",
              "    <tr>\n",
              "      <th>6792223</th>\n",
              "      <td>1</td>\n",
              "      <td>0</td>\n",
              "      <td>0</td>\n",
              "      <td>4.0</td>\n",
              "      <td>1</td>\n",
              "    </tr>\n",
              "    <tr>\n",
              "      <th>6792224</th>\n",
              "      <td>1</td>\n",
              "      <td>0</td>\n",
              "      <td>1</td>\n",
              "      <td>4.0</td>\n",
              "      <td>1</td>\n",
              "    </tr>\n",
              "    <tr>\n",
              "      <th>6792225</th>\n",
              "      <td>1</td>\n",
              "      <td>1</td>\n",
              "      <td>0</td>\n",
              "      <td>4.0</td>\n",
              "      <td>1</td>\n",
              "    </tr>\n",
              "    <tr>\n",
              "      <th>6792226</th>\n",
              "      <td>1</td>\n",
              "      <td>1</td>\n",
              "      <td>1</td>\n",
              "      <td>4.0</td>\n",
              "      <td>1</td>\n",
              "    </tr>\n",
              "    <tr>\n",
              "      <th>6792227</th>\n",
              "      <td>1</td>\n",
              "      <td>0</td>\n",
              "      <td>0</td>\n",
              "      <td>4.0</td>\n",
              "      <td>1</td>\n",
              "    </tr>\n",
              "    <tr>\n",
              "      <th>6792228</th>\n",
              "      <td>1</td>\n",
              "      <td>0</td>\n",
              "      <td>1</td>\n",
              "      <td>4.0</td>\n",
              "      <td>1</td>\n",
              "    </tr>\n",
              "    <tr>\n",
              "      <th>6792229</th>\n",
              "      <td>1</td>\n",
              "      <td>1</td>\n",
              "      <td>0</td>\n",
              "      <td>4.0</td>\n",
              "      <td>1</td>\n",
              "    </tr>\n",
              "    <tr>\n",
              "      <th>6792230</th>\n",
              "      <td>1</td>\n",
              "      <td>1</td>\n",
              "      <td>1</td>\n",
              "      <td>4.0</td>\n",
              "      <td>1</td>\n",
              "    </tr>\n",
              "    <tr>\n",
              "      <th>6792231</th>\n",
              "      <td>1</td>\n",
              "      <td>0</td>\n",
              "      <td>0</td>\n",
              "      <td>4.0</td>\n",
              "      <td>1</td>\n",
              "    </tr>\n",
              "    <tr>\n",
              "      <th>6792232</th>\n",
              "      <td>1</td>\n",
              "      <td>1</td>\n",
              "      <td>0</td>\n",
              "      <td>4.0</td>\n",
              "      <td>1</td>\n",
              "    </tr>\n",
              "    <tr>\n",
              "      <th>6792233</th>\n",
              "      <td>0</td>\n",
              "      <td>1</td>\n",
              "      <td>1</td>\n",
              "      <td>4.0</td>\n",
              "      <td>1</td>\n",
              "    </tr>\n",
              "    <tr>\n",
              "      <th>6792234</th>\n",
              "      <td>1</td>\n",
              "      <td>0</td>\n",
              "      <td>0</td>\n",
              "      <td>4.0</td>\n",
              "      <td>1</td>\n",
              "    </tr>\n",
              "    <tr>\n",
              "      <th>6792235</th>\n",
              "      <td>1</td>\n",
              "      <td>0</td>\n",
              "      <td>1</td>\n",
              "      <td>4.0</td>\n",
              "      <td>1</td>\n",
              "    </tr>\n",
              "    <tr>\n",
              "      <th>6792236</th>\n",
              "      <td>1</td>\n",
              "      <td>1</td>\n",
              "      <td>0</td>\n",
              "      <td>4.0</td>\n",
              "      <td>1</td>\n",
              "    </tr>\n",
              "    <tr>\n",
              "      <th>6792237</th>\n",
              "      <td>1</td>\n",
              "      <td>1</td>\n",
              "      <td>1</td>\n",
              "      <td>4.0</td>\n",
              "      <td>1</td>\n",
              "    </tr>\n",
              "    <tr>\n",
              "      <th>6792238</th>\n",
              "      <td>1</td>\n",
              "      <td>0</td>\n",
              "      <td>0</td>\n",
              "      <td>4.0</td>\n",
              "      <td>1</td>\n",
              "    </tr>\n",
              "  </tbody>\n",
              "</table>\n",
              "</div>\n",
              "    <div class=\"colab-df-buttons\">\n",
              "\n",
              "  <div class=\"colab-df-container\">\n",
              "    <button class=\"colab-df-convert\" onclick=\"convertToInteractive('df-2d2058cb-0768-4e4c-9ffd-8c5aa5587a9b')\"\n",
              "            title=\"Convert this dataframe to an interactive table.\"\n",
              "            style=\"display:none;\">\n",
              "\n",
              "  <svg xmlns=\"http://www.w3.org/2000/svg\" height=\"24px\" viewBox=\"0 -960 960 960\">\n",
              "    <path d=\"M120-120v-720h720v720H120Zm60-500h600v-160H180v160Zm220 220h160v-160H400v160Zm0 220h160v-160H400v160ZM180-400h160v-160H180v160Zm440 0h160v-160H620v160ZM180-180h160v-160H180v160Zm440 0h160v-160H620v160Z\"/>\n",
              "  </svg>\n",
              "    </button>\n",
              "\n",
              "  <style>\n",
              "    .colab-df-container {\n",
              "      display:flex;\n",
              "      gap: 12px;\n",
              "    }\n",
              "\n",
              "    .colab-df-convert {\n",
              "      background-color: #E8F0FE;\n",
              "      border: none;\n",
              "      border-radius: 50%;\n",
              "      cursor: pointer;\n",
              "      display: none;\n",
              "      fill: #1967D2;\n",
              "      height: 32px;\n",
              "      padding: 0 0 0 0;\n",
              "      width: 32px;\n",
              "    }\n",
              "\n",
              "    .colab-df-convert:hover {\n",
              "      background-color: #E2EBFA;\n",
              "      box-shadow: 0px 1px 2px rgba(60, 64, 67, 0.3), 0px 1px 3px 1px rgba(60, 64, 67, 0.15);\n",
              "      fill: #174EA6;\n",
              "    }\n",
              "\n",
              "    .colab-df-buttons div {\n",
              "      margin-bottom: 4px;\n",
              "    }\n",
              "\n",
              "    [theme=dark] .colab-df-convert {\n",
              "      background-color: #3B4455;\n",
              "      fill: #D2E3FC;\n",
              "    }\n",
              "\n",
              "    [theme=dark] .colab-df-convert:hover {\n",
              "      background-color: #434B5C;\n",
              "      box-shadow: 0px 1px 3px 1px rgba(0, 0, 0, 0.15);\n",
              "      filter: drop-shadow(0px 1px 2px rgba(0, 0, 0, 0.3));\n",
              "      fill: #FFFFFF;\n",
              "    }\n",
              "  </style>\n",
              "\n",
              "    <script>\n",
              "      const buttonEl =\n",
              "        document.querySelector('#df-2d2058cb-0768-4e4c-9ffd-8c5aa5587a9b button.colab-df-convert');\n",
              "      buttonEl.style.display =\n",
              "        google.colab.kernel.accessAllowed ? 'block' : 'none';\n",
              "\n",
              "      async function convertToInteractive(key) {\n",
              "        const element = document.querySelector('#df-2d2058cb-0768-4e4c-9ffd-8c5aa5587a9b');\n",
              "        const dataTable =\n",
              "          await google.colab.kernel.invokeFunction('convertToInteractive',\n",
              "                                                    [key], {});\n",
              "        if (!dataTable) return;\n",
              "\n",
              "        const docLinkHtml = 'Like what you see? Visit the ' +\n",
              "          '<a target=\"_blank\" href=https://colab.research.google.com/notebooks/data_table.ipynb>data table notebook</a>'\n",
              "          + ' to learn more about interactive tables.';\n",
              "        element.innerHTML = '';\n",
              "        dataTable['output_type'] = 'display_data';\n",
              "        await google.colab.output.renderOutput(dataTable, element);\n",
              "        const docLink = document.createElement('div');\n",
              "        docLink.innerHTML = docLinkHtml;\n",
              "        element.appendChild(docLink);\n",
              "      }\n",
              "    </script>\n",
              "  </div>\n",
              "\n",
              "\n",
              "<div id=\"df-d3446b73-49d5-4771-9a23-a7aa371b5506\">\n",
              "  <button class=\"colab-df-quickchart\" onclick=\"quickchart('df-d3446b73-49d5-4771-9a23-a7aa371b5506')\"\n",
              "            title=\"Suggest charts\"\n",
              "            style=\"display:none;\">\n",
              "\n",
              "<svg xmlns=\"http://www.w3.org/2000/svg\" height=\"24px\"viewBox=\"0 0 24 24\"\n",
              "     width=\"24px\">\n",
              "    <g>\n",
              "        <path d=\"M19 3H5c-1.1 0-2 .9-2 2v14c0 1.1.9 2 2 2h14c1.1 0 2-.9 2-2V5c0-1.1-.9-2-2-2zM9 17H7v-7h2v7zm4 0h-2V7h2v10zm4 0h-2v-4h2v4z\"/>\n",
              "    </g>\n",
              "</svg>\n",
              "  </button>\n",
              "\n",
              "<style>\n",
              "  .colab-df-quickchart {\n",
              "      --bg-color: #E8F0FE;\n",
              "      --fill-color: #1967D2;\n",
              "      --hover-bg-color: #E2EBFA;\n",
              "      --hover-fill-color: #174EA6;\n",
              "      --disabled-fill-color: #AAA;\n",
              "      --disabled-bg-color: #DDD;\n",
              "  }\n",
              "\n",
              "  [theme=dark] .colab-df-quickchart {\n",
              "      --bg-color: #3B4455;\n",
              "      --fill-color: #D2E3FC;\n",
              "      --hover-bg-color: #434B5C;\n",
              "      --hover-fill-color: #FFFFFF;\n",
              "      --disabled-bg-color: #3B4455;\n",
              "      --disabled-fill-color: #666;\n",
              "  }\n",
              "\n",
              "  .colab-df-quickchart {\n",
              "    background-color: var(--bg-color);\n",
              "    border: none;\n",
              "    border-radius: 50%;\n",
              "    cursor: pointer;\n",
              "    display: none;\n",
              "    fill: var(--fill-color);\n",
              "    height: 32px;\n",
              "    padding: 0;\n",
              "    width: 32px;\n",
              "  }\n",
              "\n",
              "  .colab-df-quickchart:hover {\n",
              "    background-color: var(--hover-bg-color);\n",
              "    box-shadow: 0 1px 2px rgba(60, 64, 67, 0.3), 0 1px 3px 1px rgba(60, 64, 67, 0.15);\n",
              "    fill: var(--button-hover-fill-color);\n",
              "  }\n",
              "\n",
              "  .colab-df-quickchart-complete:disabled,\n",
              "  .colab-df-quickchart-complete:disabled:hover {\n",
              "    background-color: var(--disabled-bg-color);\n",
              "    fill: var(--disabled-fill-color);\n",
              "    box-shadow: none;\n",
              "  }\n",
              "\n",
              "  .colab-df-spinner {\n",
              "    border: 2px solid var(--fill-color);\n",
              "    border-color: transparent;\n",
              "    border-bottom-color: var(--fill-color);\n",
              "    animation:\n",
              "      spin 1s steps(1) infinite;\n",
              "  }\n",
              "\n",
              "  @keyframes spin {\n",
              "    0% {\n",
              "      border-color: transparent;\n",
              "      border-bottom-color: var(--fill-color);\n",
              "      border-left-color: var(--fill-color);\n",
              "    }\n",
              "    20% {\n",
              "      border-color: transparent;\n",
              "      border-left-color: var(--fill-color);\n",
              "      border-top-color: var(--fill-color);\n",
              "    }\n",
              "    30% {\n",
              "      border-color: transparent;\n",
              "      border-left-color: var(--fill-color);\n",
              "      border-top-color: var(--fill-color);\n",
              "      border-right-color: var(--fill-color);\n",
              "    }\n",
              "    40% {\n",
              "      border-color: transparent;\n",
              "      border-right-color: var(--fill-color);\n",
              "      border-top-color: var(--fill-color);\n",
              "    }\n",
              "    60% {\n",
              "      border-color: transparent;\n",
              "      border-right-color: var(--fill-color);\n",
              "    }\n",
              "    80% {\n",
              "      border-color: transparent;\n",
              "      border-right-color: var(--fill-color);\n",
              "      border-bottom-color: var(--fill-color);\n",
              "    }\n",
              "    90% {\n",
              "      border-color: transparent;\n",
              "      border-bottom-color: var(--fill-color);\n",
              "    }\n",
              "  }\n",
              "</style>\n",
              "\n",
              "  <script>\n",
              "    async function quickchart(key) {\n",
              "      const quickchartButtonEl =\n",
              "        document.querySelector('#' + key + ' button');\n",
              "      quickchartButtonEl.disabled = true;  // To prevent multiple clicks.\n",
              "      quickchartButtonEl.classList.add('colab-df-spinner');\n",
              "      try {\n",
              "        const charts = await google.colab.kernel.invokeFunction(\n",
              "            'suggestCharts', [key], {});\n",
              "      } catch (error) {\n",
              "        console.error('Error during call to suggestCharts:', error);\n",
              "      }\n",
              "      quickchartButtonEl.classList.remove('colab-df-spinner');\n",
              "      quickchartButtonEl.classList.add('colab-df-quickchart-complete');\n",
              "    }\n",
              "    (() => {\n",
              "      let quickchartButtonEl =\n",
              "        document.querySelector('#df-d3446b73-49d5-4771-9a23-a7aa371b5506 button');\n",
              "      quickchartButtonEl.style.display =\n",
              "        google.colab.kernel.accessAllowed ? 'block' : 'none';\n",
              "    })();\n",
              "  </script>\n",
              "</div>\n",
              "    </div>\n",
              "  </div>\n"
            ]
          },
          "metadata": {},
          "execution_count": 103
        }
      ]
    },
    {
      "cell_type": "markdown",
      "source": [
        "##FUZZY K-MEANS"
      ],
      "metadata": {
        "id": "SRgNHPE6k_IZ"
      }
    },
    {
      "cell_type": "code",
      "source": [
        "!pip install scikit-fuzzy"
      ],
      "metadata": {
        "colab": {
          "base_uri": "https://localhost:8080/"
        },
        "id": "DPGoDXzpnCWT",
        "outputId": "575138b4-2e60-4945-e810-59518e55f727"
      },
      "execution_count": null,
      "outputs": [
        {
          "output_type": "stream",
          "name": "stdout",
          "text": [
            "Requirement already satisfied: scikit-fuzzy in /usr/local/lib/python3.10/dist-packages (0.4.2)\n",
            "Requirement already satisfied: numpy>=1.6.0 in /usr/local/lib/python3.10/dist-packages (from scikit-fuzzy) (1.23.5)\n",
            "Requirement already satisfied: scipy>=0.9.0 in /usr/local/lib/python3.10/dist-packages (from scikit-fuzzy) (1.11.3)\n",
            "Requirement already satisfied: networkx>=1.9.0 in /usr/local/lib/python3.10/dist-packages (from scikit-fuzzy) (3.2.1)\n"
          ]
        }
      ]
    },
    {
      "cell_type": "code",
      "source": [
        "import skfuzzy as fuzz\n",
        "# from sklearn.preprocessing import MinMaxScaler\n",
        "\n",
        "\n",
        "#using elbow method to compare Fuzzy Partition Coefficient (FPC) to find optimal K\n",
        "k_range = range(2, 14)\n",
        "FPC_values = []\n",
        "\n",
        "#normalizing the speed column\n",
        "# Create a MinMaxScaler instance\n",
        "# scaler = MinMaxScaler()\n",
        "\n",
        "# Reshape the feature to a 2D array (required by the scaler)\n",
        "# df[\"speed\"] = scaler.fit_transform(df[\"speed\"].values.reshape(-1, 1))\n",
        "\n",
        "\n",
        "\n",
        "for k in k_range:\n",
        "    cntr, u, u0, d, jm, p, fpc = fuzz.cluster.cmeans(df.to_numpy().T, k, 5, error=0.005, maxiter = 5000)\n",
        "    FPC_values.append(fpc)\n",
        "\n",
        "\n",
        "plt.plot(k_range, FPC_values, marker='o')\n",
        "plt.xlabel('Number of Clusters (K)')\n",
        "plt.ylabel('Fuzzy Partition Coefficient (FPC)')\n",
        "plt.title('Elbow Method for Optimal K (Fuzzy K-Means)')\n",
        "plt.grid(True)\n",
        "plt.show()"
      ],
      "metadata": {
        "id": "IJtr5N1PksVo",
        "colab": {
          "base_uri": "https://localhost:8080/",
          "height": 472
        },
        "outputId": "b461e3c2-8fc5-41ab-905d-18088012000e"
      },
      "execution_count": null,
      "outputs": [
        {
          "output_type": "display_data",
          "data": {
            "text/plain": [
              "<Figure size 640x480 with 1 Axes>"
            ],
            "image/png": "[encoded data removed]"
          },
          "metadata": {}
        }
      ]
    },
    {
      "cell_type": "code",
      "source": [
        "k=6\n",
        "cntr, u, u0, d, jm, p, fpc = fuzz.cluster.cmeans(df.to_numpy().T, k, 5, error=0.005, maxiter=5000)\n",
        "\n"
      ],
      "metadata": {
        "id": "h1YKHG7-XFjw"
      },
      "execution_count": null,
      "outputs": []
    },
    {
      "cell_type": "code",
      "source": [
        "cluster_sizes = u.sum(axis=1)  # Sum membership values across data points for each cluster\n",
        "\n",
        "cluster_indices = np.arange(1, len(cluster_sizes) + 1)  # Cluster indices (1, 2, 3, ...)\n",
        "\n",
        "# Create a bar plot to visualize cluster sizes\n",
        "plt.bar(cluster_indices, cluster_sizes, tick_label=cluster_indices, align='center')\n",
        "plt.xlabel('Cluster')\n",
        "plt.ylabel('Number of Data Points')\n",
        "plt.title('Cluster Sizes')\n",
        "plt.show()\n",
        "\n"
      ],
      "metadata": {
        "colab": {
          "base_uri": "https://localhost:8080/",
          "height": 472
        },
        "id": "ETs3fBVZgJ4t",
        "outputId": "e56d5aa2-16d3-46a1-e9b1-1382d2762295"
      },
      "execution_count": null,
      "outputs": [
        {
          "output_type": "display_data",
          "data": {
            "text/plain": [
              "<Figure size 640x480 with 1 Axes>"
            ],
            "image/png": "[encoded data removed]"
          },
          "metadata": {}
        }
      ]
    },
    {
      "cell_type": "code",
      "source": [
        "for cluster_number, size in enumerate(cluster_sizes, 1):\n",
        "    print(f\"Cluster {cluster_number}: {round(size, 3)} data points\")"
      ],
      "metadata": {
        "colab": {
          "base_uri": "https://localhost:8080/"
        },
        "id": "BxB7LAkZwCpL",
        "outputId": "6fba75d7-eeab-4ee2-be91-bbf6c2b3c81d"
      },
      "execution_count": null,
      "outputs": [
        {
          "output_type": "stream",
          "name": "stdout",
          "text": [
            "Cluster 1: 10572.155 data points\n",
            "Cluster 2: 10974.896 data points\n",
            "Cluster 3: 11319.071 data points\n",
            "Cluster 4: 10534.193 data points\n",
            "Cluster 5: 10493.27 data points\n",
            "Cluster 6: 11500.416 data points\n"
          ]
        }
      ]
    },
    {
      "cell_type": "code",
      "source": [
        "from sklearn.metrics import silhouette_score\n",
        "\n",
        "# Calculate the Silhouette Score (evaluation metric, how similar data points  are to their own cluster compared to other clusters)\n",
        "silhouette_avg = silhouette_score(df, u.argmax(axis=0))\n",
        "\n",
        "print(f\"Silhouette Score: {silhouette_avg}\")\n",
        "#note: a good score is >0.5, closer to 1 the better"
      ],
      "metadata": {
        "id": "fgEe_gjJ6PAY",
        "colab": {
          "base_uri": "https://localhost:8080/"
        },
        "outputId": "1aa3509d-4364-4fdf-ae50-b5d50b8d384a"
      },
      "execution_count": null,
      "outputs": [
        {
          "output_type": "stream",
          "name": "stdout",
          "text": [
            "Silhouette Score: 0.9234027343790961\n"
          ]
        }
      ]
    },
    {
      "cell_type": "markdown",
      "source": [
        "##Characterizing the clusters\n"
      ],
      "metadata": {
        "id": "o3E305IcFVDG"
      }
    },
    {
      "cell_type": "code",
      "source": [
        "feature_labels = df.columns.tolist()\n",
        "\n",
        "\n",
        "# Characterize clusters using cluster centers\n",
        "for cluster_number, center in enumerate(cntr):\n",
        "    print(f\"Cluster {cluster_number + 1} Center:\")\n",
        "    features = [f\"{feature_labels[i]}: {value:.2f}\" for i, value in enumerate(center)]\n",
        "    print('\\n'.join(features), \"\\n\")"
      ],
      "metadata": {
        "colab": {
          "base_uri": "https://localhost:8080/"
        },
        "id": "waKZegGWE5uQ",
        "outputId": "763e89ef-0c33-4584-d3f4-2474a36f0108"
      },
      "execution_count": null,
      "outputs": [
        {
          "output_type": "stream",
          "name": "stdout",
          "text": [
            "Cluster 1 Center:\n",
            "tech: 0.51\n",
            "urban_rural: 0.48\n",
            "tribal_non: 0.32\n",
            "speed: 100.00\n",
            "has_providers: 0.99 \n",
            "\n",
            "Cluster 2 Center:\n",
            "tech: 0.51\n",
            "urban_rural: 0.48\n",
            "tribal_non: 0.30\n",
            "speed: 24.99\n",
            "has_providers: 0.99 \n",
            "\n",
            "Cluster 3 Center:\n",
            "tech: 0.51\n",
            "urban_rural: 0.48\n",
            "tribal_non: 0.30\n",
            "speed: 4.05\n",
            "has_providers: 0.99 \n",
            "\n",
            "Cluster 4 Center:\n",
            "tech: 0.51\n",
            "urban_rural: 0.48\n",
            "tribal_non: 0.34\n",
            "speed: 1000.00\n",
            "has_providers: 0.99 \n",
            "\n",
            "Cluster 5 Center:\n",
            "tech: 0.51\n",
            "urban_rural: 0.48\n",
            "tribal_non: 0.33\n",
            "speed: 250.00\n",
            "has_providers: 0.99 \n",
            "\n",
            "Cluster 6 Center:\n",
            "tech: 0.51\n",
            "urban_rural: 0.48\n",
            "tribal_non: 0.29\n",
            "speed: 9.97\n",
            "has_providers: 0.99 \n",
            "\n"
          ]
        }
      ]
    },
    {
      "cell_type": "markdown",
      "source": [],
      "metadata": {
        "id": "mPbudpFVHg81"
      }
    }
  ],
  "metadata": {
    "colab": {
      "provenance": [],
      "include_colab_link": true
    },
    "kernelspec": {
      "display_name": "Python 3",
      "name": "python3"
    },
    "language_info": {
      "name": "python"
    }
  },
  "nbformat": 4,
  "nbformat_minor": 0
}